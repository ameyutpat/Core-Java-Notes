{
  "nbformat": 4,
  "nbformat_minor": 0,
  "metadata": {
    "colab": {
      "provenance": [],
      "authorship_tag": "ABX9TyOFx8awmaaH+oRaZO8rraM8",
      "include_colab_link": true
    },
    "kernelspec": {
      "name": "python3",
      "display_name": "Python 3"
    },
    "language_info": {
      "name": "python"
    }
  },
  "cells": [
    {
      "cell_type": "markdown",
      "metadata": {
        "id": "view-in-github",
        "colab_type": "text"
      },
      "source": [
        "<a href=\"https://colab.research.google.com/github/ameyutpat/Core-Java-Notes/blob/main/ReviewSummary.ipynb\" target=\"_parent\"><img src=\"https://colab.research.google.com/assets/colab-badge.svg\" alt=\"Open In Colab\"/></a>"
      ]
    },
    {
      "cell_type": "code",
      "execution_count": 74,
      "metadata": {
        "colab": {
          "base_uri": "https://localhost:8080/"
        },
        "id": "COApyh6U_Pqh",
        "outputId": "f02bd4dd-9399-409d-ee78-eae4eaa40b12"
      },
      "outputs": [
        {
          "output_type": "stream",
          "name": "stdout",
          "text": [
            "Requirement already satisfied: weaviate-client in /usr/local/lib/python3.11/dist-packages (4.11.3)\n",
            "Requirement already satisfied: httpx<0.29.0,>=0.26.0 in /usr/local/lib/python3.11/dist-packages (from weaviate-client) (0.28.1)\n",
            "Requirement already satisfied: validators==0.34.0 in /usr/local/lib/python3.11/dist-packages (from weaviate-client) (0.34.0)\n",
            "Requirement already satisfied: authlib<1.3.2,>=1.2.1 in /usr/local/lib/python3.11/dist-packages (from weaviate-client) (1.3.1)\n",
            "Requirement already satisfied: pydantic<3.0.0,>=2.8.0 in /usr/local/lib/python3.11/dist-packages (from weaviate-client) (2.10.6)\n",
            "Requirement already satisfied: grpcio<2.0.0,>=1.66.2 in /usr/local/lib/python3.11/dist-packages (from weaviate-client) (1.71.0)\n",
            "Requirement already satisfied: grpcio-tools<2.0.0,>=1.66.2 in /usr/local/lib/python3.11/dist-packages (from weaviate-client) (1.71.0)\n",
            "Requirement already satisfied: grpcio-health-checking<2.0.0,>=1.66.2 in /usr/local/lib/python3.11/dist-packages (from weaviate-client) (1.71.0)\n",
            "Requirement already satisfied: cryptography in /usr/local/lib/python3.11/dist-packages (from authlib<1.3.2,>=1.2.1->weaviate-client) (43.0.3)\n",
            "Requirement already satisfied: protobuf<6.0dev,>=5.26.1 in /usr/local/lib/python3.11/dist-packages (from grpcio-health-checking<2.0.0,>=1.66.2->weaviate-client) (5.29.4)\n",
            "Requirement already satisfied: setuptools in /usr/local/lib/python3.11/dist-packages (from grpcio-tools<2.0.0,>=1.66.2->weaviate-client) (75.1.0)\n",
            "Requirement already satisfied: anyio in /usr/local/lib/python3.11/dist-packages (from httpx<0.29.0,>=0.26.0->weaviate-client) (4.9.0)\n",
            "Requirement already satisfied: certifi in /usr/local/lib/python3.11/dist-packages (from httpx<0.29.0,>=0.26.0->weaviate-client) (2025.1.31)\n",
            "Requirement already satisfied: httpcore==1.* in /usr/local/lib/python3.11/dist-packages (from httpx<0.29.0,>=0.26.0->weaviate-client) (1.0.7)\n",
            "Requirement already satisfied: idna in /usr/local/lib/python3.11/dist-packages (from httpx<0.29.0,>=0.26.0->weaviate-client) (3.10)\n",
            "Requirement already satisfied: h11<0.15,>=0.13 in /usr/local/lib/python3.11/dist-packages (from httpcore==1.*->httpx<0.29.0,>=0.26.0->weaviate-client) (0.14.0)\n",
            "Requirement already satisfied: annotated-types>=0.6.0 in /usr/local/lib/python3.11/dist-packages (from pydantic<3.0.0,>=2.8.0->weaviate-client) (0.7.0)\n",
            "Requirement already satisfied: pydantic-core==2.27.2 in /usr/local/lib/python3.11/dist-packages (from pydantic<3.0.0,>=2.8.0->weaviate-client) (2.27.2)\n",
            "Requirement already satisfied: typing-extensions>=4.12.2 in /usr/local/lib/python3.11/dist-packages (from pydantic<3.0.0,>=2.8.0->weaviate-client) (4.12.2)\n",
            "Requirement already satisfied: sniffio>=1.1 in /usr/local/lib/python3.11/dist-packages (from anyio->httpx<0.29.0,>=0.26.0->weaviate-client) (1.3.1)\n",
            "Requirement already satisfied: cffi>=1.12 in /usr/local/lib/python3.11/dist-packages (from cryptography->authlib<1.3.2,>=1.2.1->weaviate-client) (1.17.1)\n",
            "Requirement already satisfied: pycparser in /usr/local/lib/python3.11/dist-packages (from cffi>=1.12->cryptography->authlib<1.3.2,>=1.2.1->weaviate-client) (2.22)\n"
          ]
        }
      ],
      "source": [
        "pip install -U weaviate-client"
      ]
    },
    {
      "cell_type": "code",
      "source": [
        "import os\n",
        "\n",
        "os.environ[\"WEAVIATE_URL\"] = \"https://mdow3hcct0umcgqh2pbzg.c0.asia-southeast1.gcp.weaviate.cloud\"\n",
        "os.environ[\"WEAVIATE_API_KEY\"] = \"GTwGSKjjAwYl6Xo5dZLSUXjxoe3ZXC49eRmh\"\n",
        "\n",
        "# Check if it's set\n",
        "print(os.getenv(\"WEAVIATE_URL\"))  # Output: https://your-cluster-name.weaviate.network\n",
        "print(os.getenv(\"WEAVIATE_API_KEY\"))"
      ],
      "metadata": {
        "colab": {
          "base_uri": "https://localhost:8080/"
        },
        "id": "FkO2cv4bFvn9",
        "outputId": "899f3502-ff05-4656-f587-6000bd92a119"
      },
      "execution_count": 75,
      "outputs": [
        {
          "output_type": "stream",
          "name": "stdout",
          "text": [
            "https://mdow3hcct0umcgqh2pbzg.c0.asia-southeast1.gcp.weaviate.cloud\n",
            "GTwGSKjjAwYl6Xo5dZLSUXjxoe3ZXC49eRmh\n"
          ]
        }
      ]
    },
    {
      "cell_type": "code",
      "source": [
        "import weaviate\n",
        "from weaviate.classes.init import Auth\n",
        "import os\n",
        "\n",
        "# Best practice: store your credentials in environment variables\n",
        "weaviate_url = os.environ[\"WEAVIATE_URL\"]\n",
        "weaviate_api_key = os.environ[\"WEAVIATE_API_KEY\"]\n",
        "\n",
        "\n",
        ""
      ],
      "metadata": {
        "id": "JXC4h8xV_atq"
      },
      "execution_count": 76,
      "outputs": []
    },
    {
      "cell_type": "code",
      "source": [
        "'''\n",
        "client = weaviate.connect_to_weaviate_cloud(\n",
        "    cluster_url=weaviate_url,\n",
        "    auth_credentials=Auth.api_key(weaviate_api_key),\n",
        ")\n",
        "'''"
      ],
      "metadata": {
        "colab": {
          "base_uri": "https://localhost:8080/",
          "height": 36
        },
        "id": "weYaPF_GGC0z",
        "outputId": "4ff44b65-7745-4894-c8e5-a133689695a8"
      },
      "execution_count": 77,
      "outputs": [
        {
          "output_type": "execute_result",
          "data": {
            "text/plain": [
              "'\\nclient = weaviate.connect_to_weaviate_cloud(\\n    cluster_url=weaviate_url,\\n    auth_credentials=Auth.api_key(weaviate_api_key),\\n)\\n'"
            ],
            "application/vnd.google.colaboratory.intrinsic+json": {
              "type": "string"
            }
          },
          "metadata": {},
          "execution_count": 77
        }
      ]
    },
    {
      "cell_type": "code",
      "source": [
        "import pandas as pd\n",
        "\n",
        "df = pd.read_csv(\"/content/sample_data/Musical_instruments_reviews.csv\",\n",
        "                usecols = ['reviewerID', 'asin', 'reviewText', 'overall', 'summary', 'reviewTime'])\n",
        "\n",
        "df = df[df.reviewText.notna()]"
      ],
      "metadata": {
        "id": "a3V5y-gaHctb"
      },
      "execution_count": 78,
      "outputs": []
    },
    {
      "cell_type": "code",
      "source": [
        "os.environ[\"X-Cohere-Api-Key\"] = \"w5zpWVezkv4f1MVplkjFTn8sgRfh4bSsxV61xlsw\"\n",
        "\n",
        "print(os.getenv(\"X-Cohere-Api-Key\"))"
      ],
      "metadata": {
        "colab": {
          "base_uri": "https://localhost:8080/"
        },
        "id": "M720gK1QJfSH",
        "outputId": "f33ff75b-9234-4d39-9aef-5fdbb58d0674"
      },
      "execution_count": 79,
      "outputs": [
        {
          "output_type": "stream",
          "name": "stdout",
          "text": [
            "w5zpWVezkv4f1MVplkjFTn8sgRfh4bSsxV61xlsw\n"
          ]
        }
      ]
    },
    {
      "cell_type": "code",
      "source": [
        "COHERE_API_KEY = os.environ[\"X-Cohere-Api-Key\"]\n",
        "\n",
        "def create_client():\n",
        "    \"\"\"Creates a Weaviate client with Cohere embeddings.\"\"\"\n",
        "    client = weaviate.Client(\n",
        "        embedded_options=EmbeddedOptions(),  # Runs Weaviate embedded\n",
        "        additional_headers={\"X-Cohere-Api-Key\": COHERE_API_KEY}\n",
        "    )\n",
        "    return client"
      ],
      "metadata": {
        "id": "CINih4miHqw3"
      },
      "execution_count": 34,
      "outputs": []
    },
    {
      "cell_type": "code",
      "source": [
        "client = weaviate.connect_to_weaviate_cloud(\n",
        "    cluster_url=weaviate_url,  # Replace with your Weaviate Cloud URL\n",
        "    auth_credentials=Auth.api_key(weaviate_api_key),  # Replace with your Weaviate Cloud key\n",
        "    headers={'X-Cohere-Api-Key': COHERE_API_KEY}  # Replace with your OpenAI API key\n",
        ")"
      ],
      "metadata": {
        "id": "KIRpxovGUEUL"
      },
      "execution_count": 80,
      "outputs": []
    },
    {
      "cell_type": "code",
      "source": [
        "def create_schema(client):\n",
        "    \"\"\"Creates a schema for storing review summaries.\"\"\"\n",
        "    class_obj = {\n",
        "        \"class\": \"Reviews\",\n",
        "         \"properties\":[\n",
        "              {\n",
        "                  \"name\": \"review_text\",\n",
        "                  \"dataType\": [\"text\"],\n",
        "              },\n",
        "              {\n",
        "            \"name\": \"product_id\",\n",
        "            \"dataType\": [\"text\"],\n",
        "            \"moduleConfig\": {\n",
        "                \"text2vec-openai\": {\n",
        "                    \"skip\": True, # skip vectorization for this property\n",
        "                    \"vectorizePropertyName\": False\n",
        "                }\n",
        "            }\n",
        "        }, {\n",
        "            \"name\": \"reviewer_id\",\n",
        "            \"dataType\": [\"text\"],\n",
        "            \"moduleConfig\": {\n",
        "                \"text2vec-openai\": {\n",
        "                    \"skip\": True, # skip vectorization for this property\n",
        "                    \"vectorizePropertyName\": False\n",
        "                }\n",
        "            }\n",
        "        },\n",
        "\n",
        "         ]\n",
        "    }\n",
        "\n",
        "    # Ensure schema is not duplicated\n",
        "    if not client.schema.exists(\"ReviewSummary\"):\n",
        "        client.schema.create_class(class_obj)\n"
      ],
      "metadata": {
        "id": "GOqtVxwYMpTB"
      },
      "execution_count": 81,
      "outputs": []
    },
    {
      "cell_type": "code",
      "source": [
        "from weaviate.util import generate_uuid5\n",
        "\n",
        "def batch_reviews(client):\n",
        "  # Configure batch\n",
        "  client.batch.configure(batch_size=100)\n",
        "\n",
        "  # Initialize batch process\n",
        "  with client.batch as batch:\n",
        "      for _, row in df.iterrows():\n",
        "          review_item = {\n",
        "              \"review_text\": row.reviewText,\n",
        "              \"product_id\": row.asin,\n",
        "              \"reviewer_id\": row.reviewerID,\n",
        "          }\n",
        "\n",
        "          batch.add_data_object(\n",
        "              class_name=\"Reviews\",\n",
        "              data_object=review_item,\n",
        "              uuid=generate_uuid5(review_item)\n",
        "          )"
      ],
      "metadata": {
        "id": "WEuQz_iUQeuY"
      },
      "execution_count": 82,
      "outputs": []
    },
    {
      "cell_type": "code",
      "source": [
        "generate_prompt = \"\"\"\n",
        "Summarize these customer reviews into a one-paragraph long overall review:\n",
        "{review_text}\n",
        "\"\"\""
      ],
      "metadata": {
        "id": "pbfdeTvGQbCf"
      },
      "execution_count": 83,
      "outputs": []
    },
    {
      "cell_type": "code",
      "source": [
        "def search_reviews(client):\n",
        "  client.query\\\n",
        "                .get('Reviews',\n",
        "                     ['review_text', \"product_id\"])\\\n",
        "                .with_where({\n",
        "                    \"path\": [\"product_id\"],\n",
        "                    \"operator\": \"Equal\",\n",
        "                    \"valueText\": product_id\n",
        "                })\\\n",
        "                .with_generate(grouped_task=generate_prompt)\\\n",
        "                .do()[\"data\"][\"Get\"][\"Reviews\"]"
      ],
      "metadata": {
        "id": "9pmg6pasQfyY"
      },
      "execution_count": 84,
      "outputs": []
    },
    {
      "cell_type": "code",
      "source": [
        "def mainFun(client):\n",
        "  new_review_summary = {\n",
        "          \"product_id\" : product_id,\n",
        "          \"summary\": summary[0][\"_additional\"][\"generate\"][\"groupedResult\"]\n",
        "      }\n",
        "\n",
        "  # Create new object\n",
        "  client.data_object.create(\n",
        "    data_object = new_review_summary,\n",
        "    class_name = \"Products\",\n",
        "    uuid = generate_uuid5(new_review_summary)\n",
        "  )"
      ],
      "metadata": {
        "id": "HX2-KUIxRxQ-"
      },
      "execution_count": 85,
      "outputs": []
    },
    {
      "cell_type": "code",
      "source": [
        "def repeatMainFun(client):\n",
        "  generate_prompt = \"\"\"\n",
        "  Summarize these customer reviews into a one-paragraph long overall review:\n",
        "  {review_text}\n",
        "  \"\"\"\n",
        "\n",
        "  for product_id in list(df.asin.unique()):\n",
        "      # Generate summary\n",
        "      summary = client.query\\\n",
        "                  .get('Reviews',\n",
        "                      ['review_text', \"product_id\"])\\\n",
        "                  .with_where({\n",
        "                      \"path\": [\"product_id\"],\n",
        "                      \"operator\": \"Equal\",\n",
        "                      \"valueText\": product_id\n",
        "                  })\\\n",
        "                  .with_generate(grouped_task=generate_prompt)\\\n",
        "                  .do()[\"data\"][\"Get\"][\"Reviews\"]\n",
        "\n",
        "      new_review_summary = {\n",
        "          \"product_id\" : product_id,\n",
        "          \"summary\": summary[0][\"_additional\"][\"generate\"][\"groupedResult\"]\n",
        "      }\n",
        "\n",
        "      # Create new object\n",
        "      client.data_object.create(\n",
        "        data_object = new_review_summary,\n",
        "        class_name = \"Products\",\n",
        "        uuid = generate_uuid5(new_review_summary)\n",
        "      )"
      ],
      "metadata": {
        "id": "3hqLQrZNSHOJ"
      },
      "execution_count": 86,
      "outputs": []
    },
    {
      "cell_type": "code",
      "source": [
        "def searachReviewByProduct(client):\n",
        "  reviews = client.query\\\n",
        "                  .get('Reviews', ['review_text', \"product_id\"])\\\n",
        "                  .with_where({\n",
        "                      \"path\": [\"product_id\"],\n",
        "                      \"operator\": \"Equal\",\n",
        "                      \"valueText\": \"1384719342\"\n",
        "                  })\\\n",
        "                .do()\n",
        "  print(reviews)\n",
        "  return reviews"
      ],
      "metadata": {
        "id": "uWRBE-09SqHe"
      },
      "execution_count": 87,
      "outputs": []
    },
    {
      "cell_type": "code",
      "source": [
        "def searachReviewByProduct(client):\n",
        "  res = client.query\\\n",
        "              .get('Products', ['product_id', 'summary'])\\\n",
        "              .with_where({\n",
        "                  \"path\": [\"product_id\"],\n",
        "                  \"operator\": \"Equal\",\n",
        "                  \"valueText\": \"1384719342\"\n",
        "              })\\\n",
        "              .do()\n",
        "  print(res)"
      ],
      "metadata": {
        "id": "fBPxepGhTYL8"
      },
      "execution_count": 88,
      "outputs": []
    }
  ]
}